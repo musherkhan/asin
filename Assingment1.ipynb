{
 "cells": [
  {
   "cell_type": "code",
   "execution_count": 3,
   "id": "2638e007-3f0c-4299-a453-ce2f5f61df97",
   "metadata": {},
   "outputs": [
    {
     "data": {
      "text/plain": [
       "'I am learning python'"
      ]
     },
     "execution_count": 3,
     "metadata": {},
     "output_type": "execute_result"
    }
   ],
   "source": [
    "#:1\n",
    "string = \"i am learning python\"\n",
    "string.capitalize()"
   ]
  },
  {
   "cell_type": "code",
   "execution_count": 4,
   "id": "6d910faa-95af-47cb-9171-cdd2730a2024",
   "metadata": {},
   "outputs": [
    {
     "data": {
      "text/plain": [
       "'Musheer'"
      ]
     },
     "execution_count": 4,
     "metadata": {},
     "output_type": "execute_result"
    }
   ],
   "source": [
    "# :\n",
    "string = \"musheer\"\n",
    "string.capitalize()\n"
   ]
  },
  {
   "cell_type": "code",
   "execution_count": 5,
   "id": "a55449d7-2b24-4526-8c7e-d75d6b55026d",
   "metadata": {},
   "outputs": [
    {
     "data": {
      "text/plain": [
       "'rahul'"
      ]
     },
     "execution_count": 5,
     "metadata": {},
     "output_type": "execute_result"
    }
   ],
   "source": [
    "# :2\n",
    "string = \"RAHUL\"\n",
    "string.casefold()"
   ]
  },
  {
   "cell_type": "code",
   "execution_count": 8,
   "id": "907c775d-8753-4d46-867c-3fd4e5e4029f",
   "metadata": {},
   "outputs": [
    {
     "data": {
      "text/plain": [
       "'**suman***'"
      ]
     },
     "execution_count": 8,
     "metadata": {},
     "output_type": "execute_result"
    }
   ],
   "source": [
    "# :3\n",
    "string= \"suman\"\n",
    "string.center(10,'*')"
   ]
  },
  {
   "cell_type": "code",
   "execution_count": 18,
   "id": "9245098f-6aa6-49e7-be0c-2efe7fddd4fd",
   "metadata": {},
   "outputs": [
    {
     "data": {
      "text/plain": [
       "3"
      ]
     },
     "execution_count": 18,
     "metadata": {},
     "output_type": "execute_result"
    }
   ],
   "source": [
    "# :4\n",
    "string = \"munasir\"\n",
    "string.count(\"r\")"
   ]
  },
  {
   "cell_type": "code",
   "execution_count": 19,
   "id": "b1068fe6-1340-4151-9afd-095482d870dd",
   "metadata": {},
   "outputs": [
    {
     "data": {
      "text/plain": [
       "1"
      ]
     },
     "execution_count": 19,
     "metadata": {},
     "output_type": "execute_result"
    }
   ],
   "source": [
    "# :5\n",
    "string = \"munasir\"\n",
    "string.count(\"u\")"
   ]
  },
  {
   "cell_type": "code",
   "execution_count": 23,
   "id": "34b639a9-741b-4f96-a7a3-9497aff35496",
   "metadata": {},
   "outputs": [
    {
     "data": {
      "text/plain": [
       "b'maruti'"
      ]
     },
     "execution_count": 23,
     "metadata": {},
     "output_type": "execute_result"
    }
   ],
   "source": [
    "# :6\n",
    "string = \"maruti\"\n",
    "string.encode()"
   ]
  },
  {
   "cell_type": "code",
   "execution_count": 32,
   "id": "b0c24b1d-7da6-441d-8efa-273499a60c77",
   "metadata": {},
   "outputs": [
    {
     "data": {
      "text/plain": [
       "False"
      ]
     },
     "execution_count": 32,
     "metadata": {},
     "output_type": "execute_result"
    }
   ],
   "source": [
    "# :7\n",
    "string = \"maruti\"\n",
    "string.endswith(\"1\")"
   ]
  },
  {
   "cell_type": "code",
   "execution_count": 39,
   "id": "1e2ffde3-6b4a-4c6f-b98e-819605dfffa3",
   "metadata": {},
   "outputs": [
    {
     "data": {
      "text/plain": [
       "4"
      ]
     },
     "execution_count": 39,
     "metadata": {},
     "output_type": "execute_result"
    }
   ],
   "source": [
    "# :8\n",
    "string = \"suman\"\n",
    "string.find(\"n\")"
   ]
  },
  {
   "cell_type": "code",
   "execution_count": 46,
   "id": "dc647fe6-c7db-4858-9f68-d909950f63c7",
   "metadata": {},
   "outputs": [
    {
     "data": {
      "text/plain": [
       "'Notebook is , '"
      ]
     },
     "execution_count": 46,
     "metadata": {},
     "output_type": "execute_result"
    }
   ],
   "source": [
    "# :9\n",
    "string = 'Notebook is , '\n",
    "string.format()"
   ]
  },
  {
   "cell_type": "code",
   "execution_count": 49,
   "id": "e6c9ecf0-7b19-4a4c-9ad9-763a59b9d5f5",
   "metadata": {},
   "outputs": [
    {
     "data": {
      "text/plain": [
       "'Hello, world!'"
      ]
     },
     "execution_count": 49,
     "metadata": {},
     "output_type": "execute_result"
    }
   ],
   "source": [
    "# :10\n",
    "string=\"Hello, {name}!\"\n",
    "string.format_map({'name': 'world'})  # \"Hello, world!\"\n"
   ]
  },
  {
   "cell_type": "code",
   "execution_count": 56,
   "id": "7f576afc-2997-45ab-85de-9ac4751a3c41",
   "metadata": {},
   "outputs": [
    {
     "data": {
      "text/plain": [
       "'musher khan'"
      ]
     },
     "execution_count": 56,
     "metadata": {},
     "output_type": "execute_result"
    }
   ],
   "source": [
    "# :11\n",
    "string = \"musher {name}\"\n",
    "string.format_map({'name':'khan'})"
   ]
  },
  {
   "cell_type": "code",
   "execution_count": 63,
   "id": "3783bed0-6642-421c-8a61-99e103b4403c",
   "metadata": {},
   "outputs": [
    {
     "data": {
      "text/plain": [
       "8"
      ]
     },
     "execution_count": 63,
     "metadata": {},
     "output_type": "execute_result"
    }
   ],
   "source": [
    "# :12\n",
    "string = \"musheer khan\"\n",
    "string.index(\"k\")"
   ]
  },
  {
   "cell_type": "code",
   "execution_count": 70,
   "id": "4cd3bd0c-cbc6-4c5c-a78f-834dc95fbb80",
   "metadata": {},
   "outputs": [
    {
     "data": {
      "text/plain": [
       "True"
      ]
     },
     "execution_count": 70,
     "metadata": {},
     "output_type": "execute_result"
    }
   ],
   "source": [
    "# :13\n",
    "string = \"khan67667\"\n",
    "string.isalnum()"
   ]
  },
  {
   "cell_type": "code",
   "execution_count": 72,
   "id": "968358c4-4a27-4b34-9ae3-e8f566f1c50c",
   "metadata": {},
   "outputs": [
    {
     "data": {
      "text/plain": [
       "True"
      ]
     },
     "execution_count": 72,
     "metadata": {},
     "output_type": "execute_result"
    }
   ],
   "source": [
    "# :14\n",
    "string  = \"munnalaal\"\n",
    "string .isalpha()"
   ]
  },
  {
   "cell_type": "code",
   "execution_count": 9,
   "id": "a8648871-9399-4301-bdd1-efd827fd6e1c",
   "metadata": {},
   "outputs": [
    {
     "data": {
      "text/plain": [
       "True"
      ]
     },
     "execution_count": 9,
     "metadata": {},
     "output_type": "execute_result"
    }
   ],
   "source": [
    "# :15\n",
    "string = \"uytrf\"\n",
    "string .isascii()"
   ]
  },
  {
   "cell_type": "code",
   "execution_count": 84,
   "id": "1e9cbdcb-78fe-4672-934f-cc3b66436a0d",
   "metadata": {},
   "outputs": [
    {
     "data": {
      "text/plain": [
       "True"
      ]
     },
     "execution_count": 84,
     "metadata": {},
     "output_type": "execute_result"
    }
   ],
   "source": [
    "# :16\n",
    "string = \"1234\"\n",
    "string .isdecimal()"
   ]
  },
  {
   "cell_type": "code",
   "execution_count": 82,
   "id": "6c7c6282-163e-4710-9c0d-4aa310510536",
   "metadata": {},
   "outputs": [
    {
     "data": {
      "text/plain": [
       "True"
      ]
     },
     "execution_count": 82,
     "metadata": {},
     "output_type": "execute_result"
    }
   ],
   "source": [
    "# :17\n",
    "string = \"4545\"\n",
    "string .isdigit()"
   ]
  },
  {
   "cell_type": "code",
   "execution_count": 92,
   "id": "24e91381-0f1e-4d5f-a8ed-759cb2df079b",
   "metadata": {},
   "outputs": [
    {
     "data": {
      "text/plain": [
       "True"
      ]
     },
     "execution_count": 92,
     "metadata": {},
     "output_type": "execute_result"
    }
   ],
   "source": [
    "# :18\n",
    "string  = \"musheer\"\n",
    "string .isidentifier()"
   ]
  },
  {
   "cell_type": "code",
   "execution_count": 13,
   "id": "72f8a242-9baf-4a25-b00f-4dc4af98e66f",
   "metadata": {},
   "outputs": [
    {
     "data": {
      "text/plain": [
       "True"
      ]
     },
     "execution_count": 13,
     "metadata": {},
     "output_type": "execute_result"
    }
   ],
   "source": [
    "# :19\n",
    "string = \"str\"\n",
    "string .islower()"
   ]
  },
  {
   "cell_type": "code",
   "execution_count": 96,
   "id": "90f5dd75-3ebf-46d9-bd43-d7a1da3e0cea",
   "metadata": {},
   "outputs": [
    {
     "data": {
      "text/plain": [
       "False"
      ]
     },
     "execution_count": 96,
     "metadata": {},
     "output_type": "execute_result"
    }
   ],
   "source": [
    "# :20\n",
    "string = \"kusum\"  ##numeric ota to true return karta\n",
    "string .isnumeric()"
   ]
  },
  {
   "cell_type": "code",
   "execution_count": 102,
   "id": "8acf8248-e0d5-4dcf-857d-2cf4238bcf56",
   "metadata": {},
   "outputs": [
    {
     "data": {
      "text/plain": [
       "True"
      ]
     },
     "execution_count": 102,
     "metadata": {},
     "output_type": "execute_result"
    }
   ],
   "source": [
    "# :21\n",
    "string  = \"manish{0]@\" \n",
    "string .isprintable()"
   ]
  },
  {
   "cell_type": "code",
   "execution_count": 108,
   "id": "322803f7-55f7-43b6-9eeb-2a91e9f8a9c4",
   "metadata": {},
   "outputs": [
    {
     "data": {
      "text/plain": [
       "True"
      ]
     },
     "execution_count": 108,
     "metadata": {},
     "output_type": "execute_result"
    }
   ],
   "source": [
    "# :22\n",
    "string=\" \" ##isme koi b charecter nhi hai to true return karega if one letter in dubble cot then return false\n",
    "string.isspace()"
   ]
  },
  {
   "cell_type": "code",
   "execution_count": 110,
   "id": "ed46b8b7-9ea3-4eb5-8095-5182b2bab0f6",
   "metadata": {},
   "outputs": [
    {
     "data": {
      "text/plain": [
       "False"
      ]
     },
     "execution_count": 110,
     "metadata": {},
     "output_type": "execute_result"
    }
   ],
   "source": [
    "# :23\n",
    "string = \"Nanu\"        ## Nanu true : nanu false\n",
    "string .istitle()"
   ]
  },
  {
   "cell_type": "code",
   "execution_count": 113,
   "id": "03056f26-2a0d-428c-ab63-780a7f175d8b",
   "metadata": {},
   "outputs": [
    {
     "data": {
      "text/plain": [
       "True"
      ]
     },
     "execution_count": 113,
     "metadata": {},
     "output_type": "execute_result"
    }
   ],
   "source": [
    "# :24\n",
    "string = \"FRANCE\"     ## FRANCE TRUE  : france false\n",
    "string .isupper()"
   ]
  },
  {
   "cell_type": "code",
   "execution_count": 122,
   "id": "b7f2a7b8-49da-44d8-9979-0c5829f55ae3",
   "metadata": {},
   "outputs": [
    {
     "data": {
      "text/plain": [
       "'a,b,c'"
      ]
     },
     "execution_count": 122,
     "metadata": {},
     "output_type": "execute_result"
    }
   ],
   "source": [
    "# :25\n",
    "string =\",\"\n",
    "string.join([\"a\", \"b\", \"c\"])  # \"a,b,c\"\n"
   ]
  },
  {
   "cell_type": "code",
   "execution_count": 129,
   "id": "9518cc02-9d44-4272-a02f-a36716f8e932",
   "metadata": {},
   "outputs": [
    {
     "data": {
      "text/plain": [
       "'sonu&&&&&&&&'"
      ]
     },
     "execution_count": 129,
     "metadata": {},
     "output_type": "execute_result"
    }
   ],
   "source": [
    "# :26\n",
    "string = \"sonu\"\n",
    "string .ljust(12,'&')"
   ]
  },
  {
   "cell_type": "code",
   "execution_count": 133,
   "id": "bc261da0-6f60-47f7-ad98-754464c5d9ce",
   "metadata": {},
   "outputs": [
    {
     "data": {
      "text/plain": [
       "'sonu'"
      ]
     },
     "execution_count": 133,
     "metadata": {},
     "output_type": "execute_result"
    }
   ],
   "source": [
    "# :27\n",
    "string = \"Sonu\"\n",
    "string .lower()"
   ]
  },
  {
   "cell_type": "code",
   "execution_count": 137,
   "id": "e37042fa-f744-454b-97bc-5a1f91f7c3ae",
   "metadata": {},
   "outputs": [
    {
     "data": {
      "text/plain": [
       "'Monu'"
      ]
     },
     "execution_count": 137,
     "metadata": {},
     "output_type": "execute_result"
    }
   ],
   "source": [
    "# :28\n",
    "string = \"             Monu\"\n",
    "string .lstrip()"
   ]
  },
  {
   "cell_type": "code",
   "execution_count": 144,
   "id": "2ad14d2a-3d4c-4e83-bf8b-7cd1466aa6b6",
   "metadata": {},
   "outputs": [
    {
     "data": {
      "text/plain": [
       "{97: 104, 115: 106, 100: 105, 101: 117}"
      ]
     },
     "execution_count": 144,
     "metadata": {},
     "output_type": "execute_result"
    }
   ],
   "source": [
    "# :29\n",
    "string=\"\"\n",
    "string.maketrans(\"asde\",\"hjiu\")  \n"
   ]
  },
  {
   "cell_type": "code",
   "execution_count": 151,
   "id": "468ea92f-d686-4983-ad44-289037594c26",
   "metadata": {},
   "outputs": [
    {
     "data": {
      "text/plain": [
       "('hello', ' ', 'world')"
      ]
     },
     "execution_count": 151,
     "metadata": {},
     "output_type": "execute_result"
    }
   ],
   "source": [
    "# :30\n",
    "string = \"hello world\"\n",
    "string.partition(\" \")  # (\"hello\", \" \", \"world\")\n"
   ]
  },
  {
   "cell_type": "code",
   "execution_count": 165,
   "id": "e8b304f3-94e3-4afd-b768-c68952b379d2",
   "metadata": {},
   "outputs": [
    {
     "data": {
      "text/plain": [
       "'Num1a'"
      ]
     },
     "execution_count": 165,
     "metadata": {},
     "output_type": "execute_result"
    }
   ],
   "source": [
    "# :31\n",
    "string = \"Numa\"\n",
    "string.removeprefix(\" \")"
   ]
  },
  {
   "cell_type": "code",
   "execution_count": 170,
   "id": "51c074b0-9261-46e1-85a3-7f904bf887fa",
   "metadata": {},
   "outputs": [
    {
     "data": {
      "text/plain": [
       "'virat  kohli'"
      ]
     },
     "execution_count": 170,
     "metadata": {},
     "output_type": "execute_result"
    }
   ],
   "source": [
    "# :32\n",
    "string =\"virat  kohli\"\n",
    "string.removesuffix(\"  \")"
   ]
  },
  {
   "cell_type": "code",
   "execution_count": 184,
   "id": "0ba85293-4201-401b-a099-310d5917b393",
   "metadata": {},
   "outputs": [
    {
     "data": {
      "text/plain": [
       "'ms kohli'"
      ]
     },
     "execution_count": 184,
     "metadata": {},
     "output_type": "execute_result"
    }
   ],
   "source": [
    "# :33\n",
    "string = \"ms dhoni\"\n",
    "string.replace(\"dhoni\",\"kohli\")"
   ]
  },
  {
   "cell_type": "code",
   "execution_count": 183,
   "id": "7241a462-3361-48dc-b2f1-c19b076b571a",
   "metadata": {},
   "outputs": [
    {
     "data": {
      "text/plain": [
       "'hello there'"
      ]
     },
     "execution_count": 183,
     "metadata": {},
     "output_type": "execute_result"
    }
   ],
   "source": [
    "# :33\n",
    "string=\"hello world\"\n",
    "string.replace(\"world\", \"there\")  # \"hello there\"\n"
   ]
  },
  {
   "cell_type": "code",
   "execution_count": 187,
   "id": "136aca4f-c791-4fff-b471-943ad5b8af5b",
   "metadata": {},
   "outputs": [
    {
     "data": {
      "text/plain": [
       "3"
      ]
     },
     "execution_count": 187,
     "metadata": {},
     "output_type": "execute_result"
    }
   ],
   "source": [
    "# :34\n",
    "string = \"jasprit\"\n",
    "string.rfind(\"p\")"
   ]
  },
  {
   "cell_type": "code",
   "execution_count": 189,
   "id": "19d81348-3621-40fe-b738-6fa831658181",
   "metadata": {},
   "outputs": [
    {
     "data": {
      "text/plain": [
       "2"
      ]
     },
     "execution_count": 189,
     "metadata": {},
     "output_type": "execute_result"
    }
   ],
   "source": [
    "# :35\n",
    "string = \"Rohit\"\n",
    "string.rindex(\"h\")"
   ]
  },
  {
   "cell_type": "code",
   "execution_count": 190,
   "id": "0950b119-cff2-4b44-958e-bd36f46609ac",
   "metadata": {},
   "outputs": [
    {
     "data": {
      "text/plain": [
       "'***********mohit'"
      ]
     },
     "execution_count": 190,
     "metadata": {},
     "output_type": "execute_result"
    }
   ],
   "source": [
    "# :36\n",
    "string = \"mohit\"\n",
    "string.rjust(16,'*')"
   ]
  },
  {
   "cell_type": "code",
   "execution_count": 206,
   "id": "8b478c70-1cd0-4a57-a970-f0bb9d546bf3",
   "metadata": {},
   "outputs": [
    {
     "data": {
      "text/plain": [
       "('sumit', ' ', 'kumar')"
      ]
     },
     "execution_count": 206,
     "metadata": {},
     "output_type": "execute_result"
    }
   ],
   "source": [
    "# :37\n",
    "string =\"sumit kumar\"\n",
    "string.rpartition(\" \")"
   ]
  },
  {
   "cell_type": "code",
   "execution_count": 201,
   "id": "f61fdff5-2744-4f7c-bda0-e319f2606459",
   "metadata": {},
   "outputs": [
    {
     "data": {
      "text/plain": [
       "['hello', 'world']"
      ]
     },
     "execution_count": 201,
     "metadata": {},
     "output_type": "execute_result"
    }
   ],
   "source": [
    "# :38\n",
    "string=\"hello world\"\n",
    "string.rsplit(\" \", 1)  # [\"hello\", \"world\"]\n"
   ]
  },
  {
   "cell_type": "code",
   "execution_count": 207,
   "id": "d87d27ec-ede8-475a-9dd4-5255ba3cbd1b",
   "metadata": {},
   "outputs": [
    {
     "data": {
      "text/plain": [
       "'Rohit'"
      ]
     },
     "execution_count": 207,
     "metadata": {},
     "output_type": "execute_result"
    }
   ],
   "source": [
    "# :39\n",
    "string = \"Rohit     \"\n",
    "string.rstrip()"
   ]
  },
  {
   "cell_type": "code",
   "execution_count": 208,
   "id": "a9ca08ad-d66a-4b8f-b6a8-b20c5504aca8",
   "metadata": {},
   "outputs": [
    {
     "data": {
      "text/plain": [
       "['Hello', 'world']"
      ]
     },
     "execution_count": 208,
     "metadata": {},
     "output_type": "execute_result"
    }
   ],
   "source": [
    "# :40\n",
    "string = \"Hello world\"\n",
    "string.split()"
   ]
  },
  {
   "cell_type": "code",
   "execution_count": 209,
   "id": "88b34b0f-1eab-4aae-8b28-aec5033be5be",
   "metadata": {},
   "outputs": [
    {
     "data": {
      "text/plain": [
       "['Musheer', 'khan']"
      ]
     },
     "execution_count": 209,
     "metadata": {},
     "output_type": "execute_result"
    }
   ],
   "source": [
    "# :41\n",
    "string = \"Musheer\\nkhan\"\n",
    "string.splitlines()"
   ]
  },
  {
   "cell_type": "code",
   "execution_count": 213,
   "id": "d991a3e1-6ebd-403d-bfa3-b10c96fec21d",
   "metadata": {},
   "outputs": [
    {
     "data": {
      "text/plain": [
       "True"
      ]
     },
     "execution_count": 213,
     "metadata": {},
     "output_type": "execute_result"
    }
   ],
   "source": [
    "# :42\n",
    "string = \"khan\"\n",
    "string.startswith(\"k\")"
   ]
  },
  {
   "cell_type": "code",
   "execution_count": 214,
   "id": "5c423f92-ba73-40dc-aba3-dc07a6b3ac80",
   "metadata": {},
   "outputs": [
    {
     "data": {
      "text/plain": [
       "'khan'"
      ]
     },
     "execution_count": 214,
     "metadata": {},
     "output_type": "execute_result"
    }
   ],
   "source": [
    "# :43\n",
    "string = \"      khan       \"\n",
    "string.strip()"
   ]
  },
  {
   "cell_type": "code",
   "execution_count": 216,
   "id": "fe199447-e0c2-42ba-9f80-8744e6e38b8b",
   "metadata": {},
   "outputs": [
    {
     "data": {
      "text/plain": [
       "'KHAN SAHAB'"
      ]
     },
     "execution_count": 216,
     "metadata": {},
     "output_type": "execute_result"
    }
   ],
   "source": [
    "# :44\n",
    "string = \"khan sahab\"\n",
    "string.swapcase()"
   ]
  },
  {
   "cell_type": "code",
   "execution_count": 220,
   "id": "8afd1474-527e-4332-80f8-0a3cf22e5164",
   "metadata": {},
   "outputs": [
    {
     "data": {
      "text/plain": [
       "'I Am Musheer'"
      ]
     },
     "execution_count": 220,
     "metadata": {},
     "output_type": "execute_result"
    }
   ],
   "source": [
    "# :45\n",
    "string = \"i am musheer\"\n",
    "string.title()"
   ]
  },
  {
   "cell_type": "code",
   "execution_count": 229,
   "id": "233cbe79-698d-4802-bffd-83b1dd2be2ae",
   "metadata": {},
   "outputs": [
    {
     "data": {
      "text/plain": [
       "'Hello'"
      ]
     },
     "execution_count": 229,
     "metadata": {},
     "output_type": "execute_result"
    }
   ],
   "source": [
    "# :46\n",
    "#\"hello\".translate(str.maketrans(\"h\", \"H\"))  # \"Hello\"\n"
   ]
  },
  {
   "cell_type": "code",
   "execution_count": 232,
   "id": "2fbc52fd-0b95-40e5-a3e2-07d625dacc46",
   "metadata": {},
   "outputs": [
    {
     "data": {
      "text/plain": [
       "'KHAN'"
      ]
     },
     "execution_count": 232,
     "metadata": {},
     "output_type": "execute_result"
    }
   ],
   "source": [
    "# :46\n",
    "string = \"khan\"\n",
    "string.upper()"
   ]
  },
  {
   "cell_type": "code",
   "execution_count": 240,
   "id": "2d03f66e-f89a-48ca-ad48-77ec57473f54",
   "metadata": {},
   "outputs": [
    {
     "data": {
      "text/plain": [
       "'00Rahul'"
      ]
     },
     "execution_count": 240,
     "metadata": {},
     "output_type": "execute_result"
    }
   ],
   "source": [
    "# :47\n",
    "string = \"Rahul\"\n",
    "string.zfill(7)"
   ]
  },
  {
   "cell_type": "code",
   "execution_count": 243,
   "id": "d80068ec-8245-4719-ab44-73c849ee8632",
   "metadata": {},
   "outputs": [
    {
     "data": {
      "text/plain": [
       "'00000000000000000000000000000000000000000000000000000000000000000hello'"
      ]
     },
     "execution_count": 243,
     "metadata": {},
     "output_type": "execute_result"
    }
   ],
   "source": [
    "\n",
    "\n",
    "string = \"hello\"\n",
    "string.zfill(70)\n",
    "\n"
   ]
  },
  {
   "cell_type": "markdown",
   "id": "613cd486",
   "metadata": {},
   "source": [
    "string = \" hello\"\n"
   ]
  }
 ],
 "metadata": {
  "kernelspec": {
   "display_name": "Python 3 (ipykernel)",
   "language": "python",
   "name": "python3"
  },
  "language_info": {
   "codemirror_mode": {
    "name": "ipython",
    "version": 3
   },
   "file_extension": ".py",
   "mimetype": "text/x-python",
   "name": "python",
   "nbconvert_exporter": "python",
   "pygments_lexer": "ipython3",
   "version": "3.12.3"
  }
 },
 "nbformat": 4,
 "nbformat_minor": 5
}
